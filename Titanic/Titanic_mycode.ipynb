{
 "cells": [
  {
   "cell_type": "code",
   "execution_count": 12,
   "metadata": {
    "collapsed": true
   },
   "outputs": [],
   "source": [
    "import matplotlib.pyplot as plt\n",
    "%matplotlib inline\n",
    "import numpy as np\n",
    "import pandas as pd"
   ]
  },
  {
   "cell_type": "code",
   "execution_count": 13,
   "metadata": {
    "collapsed": false
   },
   "outputs": [],
   "source": [
    "df = pd.read_csv(\"D:/PythonProjects/Titanic/data/train.csv\") \n",
    "list(df)\n",
    "df = df.drop(['Ticket','Cabin'], axis=1)\n",
    "df = df.dropna()\n",
    "\n",
    "df.to_csv(\"D:/PythonProjects/Titanic/data/titanic_trainclean.csv\")\n",
    "\n",
    "dftest = pd.read_csv(\"D:/PythonProjects/Titanic/data/testclean.csv\")\n",
    "dftest = dftest.dropna()\n",
    "dftest.to_csv(\"D:/PythonProjects/Titanic/data/titanic_testclean.csv\")\n",
    "\n",
    "#Male =0, Female =1\n",
    "# (C,S,Q) = (0,1,2)\n",
    "# Deleted Passenger name and number"
   ]
  }
 ],
 "metadata": {
  "kernelspec": {
   "display_name": "Python 3",
   "language": "python",
   "name": "python3"
  },
  "language_info": {
   "codemirror_mode": {
    "name": "ipython",
    "version": 3
   },
   "file_extension": ".py",
   "mimetype": "text/x-python",
   "name": "python",
   "nbconvert_exporter": "python",
   "pygments_lexer": "ipython3",
   "version": "3.6.0"
  }
 },
 "nbformat": 4,
 "nbformat_minor": 2
}
